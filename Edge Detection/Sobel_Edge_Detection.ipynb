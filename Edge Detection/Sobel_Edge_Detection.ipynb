{
 "cells": [
  {
   "cell_type": "code",
   "execution_count": null,
   "metadata": {},
   "outputs": [],
   "source": [
    "# Import useful libraries\n",
    "import numpy as np\n",
    "import matplotlib.pyplot as plt\n",
    "import cv2"
   ]
  },
  {
   "cell_type": "code",
   "execution_count": null,
   "metadata": {},
   "outputs": [],
   "source": [
    "# Sobel Filter Function\n",
    "Sobel_X = np.array([[-1, 0, 1], [-2, 0, 2], [-1, 0, 1]], dtype=np.float32)\n",
    "Sobel_Y = np.array([[1, 2, 1], [0, 0, 0], [-1, -2, -1]], dtype=np.float32)"
   ]
  },
  {
   "cell_type": "code",
   "execution_count": null,
   "metadata": {},
   "outputs": [],
   "source": [
    "# Convolution Function\n",
    "def Convolution(image, kernel):\n",
    "    # Get the dimensions of the image and kernel\n",
    "    image_height, image_width = image.shape\n",
    "    kernel_height, kernel_width = kernel.shape\n",
    "\n",
    "    # Create an copy image to store the output\n",
    "    # Done to prevent the edges from being affected due to convolution\n",
    "    new_image = np.copy(image).astype(np.float32)\n",
    "\n",
    "    # Initialize useful variables\n",
    "    start_y = kernel_height // 2\n",
    "    start_x = kernel_width // 2\n",
    "    end_y = image_height - kernel_height // 2\n",
    "    end_x = image_width - kernel_width // 2\n",
    "\n",
    "    # Convolve the image with the kernel\n",
    "    for y in range(start_y, end_y):\n",
    "        for x in range(start_x, end_x):\n",
    "            # Get the region of the image\n",
    "            region = image[y - start_y:y + start_y + 1, x - start_x:x + start_x + 1]\n",
    "\n",
    "            # Perform the convolution\n",
    "            new_image[y, x] = np.sum(region * kernel)\n",
    "\n",
    "    return new_image"
   ]
  },
  {
   "cell_type": "code",
   "execution_count": null,
   "metadata": {},
   "outputs": [],
   "source": [
    "image_path = []\n",
    "\n",
    "for path in image_path:\n",
    "\n",
    "    img = cv2.imread(path)\n",
    "\n",
    "    colored_img = cv2.cvtColor(img, cv2.COLOR_BGR2RGB)\n",
    "    gray_img = cv2.cvtColor(img, cv2.COLOR_BGR2GRAY)\n",
    "\n",
    "    # Apply Sobel Filter\n",
    "    vertical_edge = Convolution(gray_img, Sobel_X)\n",
    "    horizontal_edge = Convolution(gray_img, Sobel_Y)\n",
    "\n",
    "    plt.figure(figsize=(15, 5))\n",
    "\n",
    "    plt.subplot(1, 3, 1)\n",
    "    plt.imshow(colored_img)\n",
    "    plt.title('Original Image')\n",
    "    plt.axis('off')\n",
    "\n",
    "    plt.subplot(1, 3, 2)\n",
    "    plt.imshow(vertical_edge, cmap='gray')\n",
    "    plt.title('Horizontal Sobel Filter')\n",
    "    plt.axis('off')\n",
    "\n",
    "    plt.subplot(1, 3, 3)\n",
    "    plt.imshow(horizontal_edge, cmap='gray')\n",
    "    plt.title('Vertical Sobel Filter')\n",
    "    plt.axis('off')\n",
    "\n",
    "    plt.show()"
   ]
  }
 ],
 "metadata": {
  "kernelspec": {
   "display_name": "Python 3",
   "language": "python",
   "name": "python3"
  },
  "language_info": {
   "codemirror_mode": {
    "name": "ipython",
    "version": 3
   },
   "file_extension": ".py",
   "mimetype": "text/x-python",
   "name": "python",
   "nbconvert_exporter": "python",
   "pygments_lexer": "ipython3",
   "version": "3.10.2"
  }
 },
 "nbformat": 4,
 "nbformat_minor": 2
}
